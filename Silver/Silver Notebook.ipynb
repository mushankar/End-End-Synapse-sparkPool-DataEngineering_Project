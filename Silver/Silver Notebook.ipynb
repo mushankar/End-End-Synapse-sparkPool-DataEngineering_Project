{
  "cells": [
    {
      "cell_type": "markdown",
      "source": [
        "**Silver Notebook - Processing the data from bronze1**"
      ],
      "metadata": {
        "nteract": {
          "transient": {
            "deleting": false
          }
        }
      }
    },
    {
      "cell_type": "code",
      "source": [
        "import json\n",
        "\n",
        "# Access parameters directly\n",
        "bronze1_output = \"\""
      ],
      "outputs": [],
      "execution_count": null,
      "metadata": {
        "jupyter": {
          "source_hidden": false,
          "outputs_hidden": false
        },
        "nteract": {
          "transient": {
            "deleting": false
          }
        },
        "tags": [
          "parameters"
        ]
      }
    },
    {
      "cell_type": "code",
      "source": [
        "# Parse the JSON string\n",
        "output_data = json.loads(bronze1_output)\n",
        "\n",
        "# Access individual variables\n",
        "start_date = output_data.get(\"start_date\")\n",
        "silver_adls = output_data.get(\"silver_adls\")\n",
        "bronze1_adls = output_data.get(\"bronze1_adls\")\n",
        "\n",
        "print(f\"Start Date: {start_date}\")\n",
        "print(f\"Silver ADLS: {silver_adls}\")\n",
        "print(f\"bronze1 ADLS: {bronze1_adls}\")"
      ],
      "outputs": [],
      "execution_count": null,
      "metadata": {
        "jupyter": {
          "source_hidden": false,
          "outputs_hidden": false
        },
        "nteract": {
          "transient": {
            "deleting": false
          }
        }
      }
    },
    {
      "cell_type": "code",
      "source": [
        "'''\n",
        "from datetime import date, timedelta\n",
        "\n",
        "# Remove this before running Data Factory Pipeline\n",
        "start_date = date.today() - timedelta(1)\n",
        "\n",
        "bronze1_adls = \"abfss://bronze1@storage999.dfs.core.windows.net/\"\n",
        "silver_adls = \"abfss://silver@storage999.dfs.core.windows.net/\"\n",
        "'''\n"
      ],
      "outputs": [],
      "execution_count": null,
      "metadata": {
        "application/vnd.databricks.v1+cell": {
          "cellMetadata": {
            "byteLimit": 2048000,
            "rowLimit": 10000
          },
          "inputWidgets": {},
          "nuid": "ac06ba16-db9d-4864-9d82-ea20f734d452",
          "showTitle": false,
          "tableResultSettingsMap": {},
          "title": ""
        },
        "tags": []
      }
    },
    {
      "cell_type": "code",
      "source": [
        "from pyspark.sql.functions import col, isnull, when\n",
        "from pyspark.sql.types import TimestampType\n",
        "from datetime import date, timedelta"
      ],
      "outputs": [],
      "execution_count": null,
      "metadata": {
        "application/vnd.databricks.v1+cell": {
          "cellMetadata": {
            "byteLimit": 2048000,
            "rowLimit": 10000
          },
          "inputWidgets": {},
          "nuid": "78f3ec41-67d6-43e4-be7b-fff8c913b983",
          "showTitle": false,
          "tableResultSettingsMap": {},
          "title": ""
        }
      }
    },
    {
      "cell_type": "code",
      "source": [
        "# Load the JSON data into a Spark DataFrame\n",
        "df = spark.read.option(\"multiline\", \"true\").json(f\"{bronze1_adls}{start_date}_earthquake_data.json\")"
      ],
      "outputs": [],
      "execution_count": null,
      "metadata": {
        "application/vnd.databricks.v1+cell": {
          "cellMetadata": {
            "byteLimit": 2048000,
            "rowLimit": 10000
          },
          "inputWidgets": {},
          "nuid": "75eaa9de-a294-474e-b485-6862f0a2aff2",
          "showTitle": false,
          "tableResultSettingsMap": {},
          "title": ""
        }
      }
    },
    {
      "cell_type": "code",
      "source": [
        "df"
      ],
      "outputs": [],
      "execution_count": null,
      "metadata": {
        "application/vnd.databricks.v1+cell": {
          "cellMetadata": {
            "byteLimit": 2048000,
            "rowLimit": 10000
          },
          "inputWidgets": {},
          "nuid": "9dfbf91f-6a36-42c6-b3a5-4f6222b9cdb0",
          "showTitle": false,
          "tableResultSettingsMap": {},
          "title": ""
        }
      }
    },
    {
      "cell_type": "code",
      "source": [
        "df.head()"
      ],
      "outputs": [],
      "execution_count": null,
      "metadata": {
        "application/vnd.databricks.v1+cell": {
          "cellMetadata": {
            "byteLimit": 2048000,
            "rowLimit": 10000
          },
          "inputWidgets": {},
          "nuid": "08a12191-5d65-4409-a17b-dc13721db2a3",
          "showTitle": false,
          "tableResultSettingsMap": {},
          "title": ""
        }
      }
    },
    {
      "cell_type": "code",
      "source": [
        "# Reshape earthquake data\n",
        "df = (\n",
        "    df\n",
        "    .select(\n",
        "        'id',\n",
        "        col('geometry.coordinates').getItem(0).alias('longitude'),\n",
        "        col('geometry.coordinates').getItem(1).alias('latitude'),\n",
        "        col('geometry.coordinates').getItem(2).alias('elevation'),\n",
        "        col('properties.title').alias('title'),\n",
        "        col('properties.place').alias('place_description'),\n",
        "        col('properties.sig').alias('sig'),\n",
        "        col('properties.mag').alias('mag'),\n",
        "        col('properties.magType').alias('magType'),\n",
        "        col('properties.time').alias('time'),\n",
        "        col('properties.updated').alias('updated')\n",
        "    )\n",
        ")"
      ],
      "outputs": [],
      "execution_count": null,
      "metadata": {
        "application/vnd.databricks.v1+cell": {
          "cellMetadata": {
            "byteLimit": 2048000,
            "rowLimit": 10000
          },
          "inputWidgets": {},
          "nuid": "2f477bf7-aa46-4d2d-bbbd-83dff93028bd",
          "showTitle": false,
          "tableResultSettingsMap": {},
          "title": ""
        }
      }
    },
    {
      "cell_type": "code",
      "source": [
        "df"
      ],
      "outputs": [],
      "execution_count": null,
      "metadata": {
        "application/vnd.databricks.v1+cell": {
          "cellMetadata": {
            "byteLimit": 2048000,
            "rowLimit": 10000
          },
          "inputWidgets": {},
          "nuid": "fb1bc1b6-d0fd-4e3c-bfa0-87e38c3cd27b",
          "showTitle": false,
          "tableResultSettingsMap": {},
          "title": ""
        }
      }
    },
    {
      "cell_type": "code",
      "source": [
        "df.head()"
      ],
      "outputs": [],
      "execution_count": null,
      "metadata": {
        "application/vnd.databricks.v1+cell": {
          "cellMetadata": {
            "byteLimit": 2048000,
            "rowLimit": 10000
          },
          "inputWidgets": {},
          "nuid": "a6bf076c-dfa6-4dc5-82bd-7bb9beeab778",
          "showTitle": false,
          "tableResultSettingsMap": {},
          "title": ""
        }
      }
    },
    {
      "cell_type": "code",
      "source": [
        "display(df)"
      ],
      "outputs": [],
      "execution_count": null,
      "metadata": {
        "collapsed": false
      }
    },
    {
      "cell_type": "code",
      "source": [
        "# Validate data: Check for missing or null values\n",
        "df = (\n",
        "    df\n",
        "    .withColumn('longitude', when(isnull(col('longitude')), 0).otherwise(col('longitude')))\n",
        "    .withColumn('latitude', when(isnull(col('latitude')), 0).otherwise(col('latitude')))\n",
        "    .withColumn('time', when(isnull(col('time')), 0).otherwise(col('time')))\n",
        ")"
      ],
      "outputs": [],
      "execution_count": null,
      "metadata": {
        "application/vnd.databricks.v1+cell": {
          "cellMetadata": {
            "byteLimit": 2048000,
            "rowLimit": 10000
          },
          "inputWidgets": {},
          "nuid": "9ed13efd-7651-49a1-9591-54eccada4f38",
          "showTitle": false,
          "tableResultSettingsMap": {},
          "title": ""
        }
      }
    },
    {
      "cell_type": "code",
      "source": [
        "# Convert 'time' and 'updated' to timestamp from Unix time\n",
        "df = (\n",
        "    df\n",
        "    .withColumn('time', (col('time') / 1000).cast(TimestampType()))\n",
        "    .withColumn('updated', (col('updated') / 1000).cast(TimestampType()))\n",
        ")"
      ],
      "outputs": [],
      "execution_count": null,
      "metadata": {
        "application/vnd.databricks.v1+cell": {
          "cellMetadata": {
            "byteLimit": 2048000,
            "rowLimit": 10000
          },
          "inputWidgets": {},
          "nuid": "23e4bf83-507d-444b-b315-49287e79dc71",
          "showTitle": false,
          "tableResultSettingsMap": {},
          "title": ""
        }
      }
    },
    {
      "cell_type": "code",
      "source": [
        "df.head()"
      ],
      "outputs": [],
      "execution_count": null,
      "metadata": {
        "application/vnd.databricks.v1+cell": {
          "cellMetadata": {
            "byteLimit": 2048000,
            "rowLimit": 10000
          },
          "inputWidgets": {},
          "nuid": "fc2f0d46-95b0-42d5-8655-4dc90860b00c",
          "showTitle": false,
          "tableResultSettingsMap": {},
          "title": ""
        }
      }
    },
    {
      "cell_type": "code",
      "source": [
        "# Save the transformed DataFrame to the Silver container\n",
        "silver_data = f\"{silver_adls}earthquake_events_silver/\""
      ],
      "outputs": [],
      "execution_count": null,
      "metadata": {
        "application/vnd.databricks.v1+cell": {
          "cellMetadata": {},
          "inputWidgets": {},
          "nuid": "21b7e5d1-12de-4afa-b4f1-13b5c66dc75d",
          "showTitle": false,
          "tableResultSettingsMap": {},
          "title": ""
        }
      }
    },
    {
      "cell_type": "code",
      "source": [
        "# Append DataFrame to Silver container in Parquet format\n",
        "df.write.mode('append').parquet(silver_data)"
      ],
      "outputs": [
        {
          "output_type": "display_data",
          "data": {
            "application/vnd.livy.statement-meta+json": {
              "spark_pool": "hourpool",
              "statement_id": 21,
              "statement_ids": [
                21
              ],
              "state": "finished",
              "livy_statement_state": "available",
              "spark_jobs": null,
              "session_id": "12",
              "normalized_state": "finished",
              "queued_time": "2025-06-24T17:00:47.6908529Z",
              "session_start_time": null,
              "execution_start_time": "2025-06-24T17:00:47.692039Z",
              "execution_finish_time": "2025-06-24T17:00:51.8180075Z",
              "parent_msg_id": "d64df96b-f7b9-42a1-a939-198b18e1f60f"
            },
            "text/plain": "StatementMeta(hourpool, 12, 21, Finished, Available, Finished)"
          },
          "metadata": {}
        }
      ],
      "execution_count": 21,
      "metadata": {
        "application/vnd.databricks.v1+cell": {
          "cellMetadata": {},
          "inputWidgets": {},
          "nuid": "c6d79f24-e7c7-4a8a-a936-9d4dc9e151a3",
          "showTitle": false,
          "tableResultSettingsMap": {},
          "title": ""
        }
      }
    },
    {
      "cell_type": "code",
      "source": [
        "mssparkutils.notebook.exit(silver_data)"
      ],
      "outputs": [
        {
          "output_type": "display_data",
          "data": {
            "application/vnd.livy.statement-meta+json": {
              "spark_pool": "hourpool",
              "statement_id": 22,
              "statement_ids": [
                22
              ],
              "state": "finished",
              "livy_statement_state": "available",
              "spark_jobs": null,
              "session_id": "12",
              "normalized_state": "finished",
              "queued_time": "2025-06-24T17:01:13.3403769Z",
              "session_start_time": null,
              "execution_start_time": "2025-06-24T17:01:13.3416144Z",
              "execution_finish_time": "2025-06-24T17:01:13.5620062Z",
              "parent_msg_id": "3da95d5e-030c-4cc8-afcd-a7da9be05b1c"
            },
            "text/plain": "StatementMeta(hourpool, 12, 22, Finished, Available, Finished)"
          },
          "metadata": {}
        },
        {
          "output_type": "stream",
          "name": "stdout",
          "text": [
            "ExitValue: abfss://silver@storage999.dfs.core.windows.net/earthquake_events_silver/"
          ]
        }
      ],
      "execution_count": 22,
      "metadata": {
        "application/vnd.databricks.v1+cell": {
          "cellMetadata": {},
          "inputWidgets": {},
          "nuid": "23e0c26a-163d-4519-b11d-e86c2d15446d",
          "showTitle": false,
          "tableResultSettingsMap": {},
          "title": ""
        }
      }
    },
    {
      "cell_type": "markdown",
      "source": [],
      "metadata": {
        "nteract": {
          "transient": {
            "deleting": false
          }
        }
      }
    }
  ],
  "metadata": {
    "kernelspec": {
      "name": "synapse_pyspark",
      "language": "Python",
      "display_name": "Synapse PySpark"
    },
    "language_info": {
      "name": "python"
    },
    "kernel_info": {
      "name": "synapse_pyspark"
    },
    "save_output": true,
    "synapse_widget": {
      "version": "0.1",
      "state": {}
    }
  },
  "nbformat": 4,
  "nbformat_minor": 2
}
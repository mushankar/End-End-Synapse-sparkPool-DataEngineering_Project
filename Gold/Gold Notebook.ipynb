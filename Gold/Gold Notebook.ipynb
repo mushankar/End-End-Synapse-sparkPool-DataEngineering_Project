{
  "cells": [
    {
      "cell_type": "code",
      "source": [
        "bronze_output = \"\"\n",
        "silver_data = \"\""
      ],
      "outputs": [
        {
          "output_type": "display_data",
          "data": {
            "application/vnd.livy.statement-meta+json": {
              "spark_pool": "synonly",
              "statement_id": 5,
              "statement_ids": [
                5
              ],
              "state": "finished",
              "livy_statement_state": "available",
              "spark_jobs": null,
              "session_id": "16",
              "normalized_state": "finished",
              "queued_time": "2025-01-12T10:57:46.175716Z",
              "session_start_time": null,
              "execution_start_time": "2025-01-12T10:57:46.3312517Z",
              "execution_finish_time": "2025-01-12T10:57:46.4855606Z",
              "parent_msg_id": "76343f50-b5ba-45f9-a89c-b0935b45def3"
            },
            "text/plain": "StatementMeta(synonly, 16, 5, Finished, Available, Finished)"
          },
          "metadata": {}
        }
      ],
      "execution_count": 4,
      "metadata": {
        "application/vnd.databricks.v1+cell": {
          "cellMetadata": {
            "byteLimit": 2048000,
            "rowLimit": 10000
          },
          "inputWidgets": {},
          "nuid": "6983d27b-7bda-45a1-b081-9d5550f7f80e",
          "showTitle": false,
          "tableResultSettingsMap": {},
          "title": ""
        },
        "tags": [
          "parameters"
        ]
      }
    },
    {
      "cell_type": "code",
      "source": [
        "'''\n",
        "from datetime import date, timedelta\n",
        "\n",
        "#Remove this before running datafactory\n",
        "start_date = date.today() - timedelta(1)\n",
        "gold_adls = \"abfss://gold@storage999.dfs.core.windows.net/\"\n",
        "silver_adls = \"abfss://silver@storage999.dfs.core.windows.net/\"\n",
        "silver_data = f\"{silver_adls}earthquake_events_silver/\"\n",
        "'''"
      ],
      "outputs": [
        {
          "output_type": "display_data",
          "data": {
            "application/vnd.livy.statement-meta+json": {
              "spark_pool": "hourpool",
              "statement_id": 31,
              "statement_ids": [
                31
              ],
              "state": "finished",
              "livy_statement_state": "available",
              "spark_jobs": null,
              "session_id": "13",
              "normalized_state": "finished",
              "queued_time": "2025-06-24T17:45:28.5421093Z",
              "session_start_time": null,
              "execution_start_time": "2025-06-24T17:45:28.5433591Z",
              "execution_finish_time": "2025-06-24T17:45:28.7553367Z",
              "parent_msg_id": "1cb85f80-be65-4e58-957d-0b8bcd121d2e"
            },
            "text/plain": "StatementMeta(hourpool, 13, 31, Finished, Available, Finished)"
          },
          "metadata": {}
        }
      ],
      "execution_count": 27,
      "metadata": {}
    },
    {
      "cell_type": "code",
      "source": [
        "silver_data"
      ],
      "outputs": [
        {
          "output_type": "display_data",
          "data": {
            "application/vnd.livy.statement-meta+json": {
              "spark_pool": "hourpool",
              "statement_id": 32,
              "statement_ids": [
                32
              ],
              "state": "finished",
              "livy_statement_state": "available",
              "spark_jobs": null,
              "session_id": "13",
              "normalized_state": "finished",
              "queued_time": "2025-06-24T17:45:33.6659335Z",
              "session_start_time": null,
              "execution_start_time": "2025-06-24T17:45:33.6672799Z",
              "execution_finish_time": "2025-06-24T17:45:33.8821278Z",
              "parent_msg_id": "ab7dbae9-f2da-4a09-968a-8cb56bca7c77"
            },
            "text/plain": "StatementMeta(hourpool, 13, 32, Finished, Available, Finished)"
          },
          "metadata": {}
        },
        {
          "output_type": "execute_result",
          "execution_count": 49,
          "data": {
            "text/plain": "'abfss://silver@storage999.dfs.core.windows.net/earthquake_events_silver/'"
          },
          "metadata": {}
        }
      ],
      "execution_count": 28,
      "metadata": {}
    },
    {
      "cell_type": "code",
      "source": [
        "from pyspark.sql.functions import when, col, udf\n",
        "from pyspark.sql.types import StringType\n",
        "# Ensure the below library is installed on your cluster\n",
        "import reverse_geocoder as rg\n",
        "from datetime import date, timedelta"
      ],
      "outputs": [
        {
          "output_type": "display_data",
          "data": {
            "application/vnd.livy.statement-meta+json": {
              "spark_pool": "hourpool",
              "statement_id": 33,
              "statement_ids": [
                33
              ],
              "state": "finished",
              "livy_statement_state": "available",
              "spark_jobs": null,
              "session_id": "13",
              "normalized_state": "finished",
              "queued_time": "2025-06-24T17:45:35.1692917Z",
              "session_start_time": null,
              "execution_start_time": "2025-06-24T17:45:35.1705024Z",
              "execution_finish_time": "2025-06-24T17:45:35.3817596Z",
              "parent_msg_id": "6a5b8d04-33bf-4443-b716-310478601323"
            },
            "text/plain": "StatementMeta(hourpool, 13, 33, Finished, Available, Finished)"
          },
          "metadata": {}
        }
      ],
      "execution_count": 29,
      "metadata": {
        "application/vnd.databricks.v1+cell": {
          "cellMetadata": {
            "byteLimit": 2048000,
            "rowLimit": 10000
          },
          "inputWidgets": {},
          "nuid": "e44e2d7b-08e7-41b0-a110-5f9cc0643077",
          "showTitle": false,
          "tableResultSettingsMap": {},
          "title": ""
        }
      }
    },
    {
      "cell_type": "code",
      "source": [
        "df = spark.read.parquet(silver_data).filter(col('time') > start_date)"
      ],
      "outputs": [
        {
          "output_type": "display_data",
          "data": {
            "application/vnd.livy.statement-meta+json": {
              "spark_pool": "hourpool",
              "statement_id": 34,
              "statement_ids": [
                34
              ],
              "state": "finished",
              "livy_statement_state": "available",
              "spark_jobs": null,
              "session_id": "13",
              "normalized_state": "finished",
              "queued_time": "2025-06-24T17:45:36.4697349Z",
              "session_start_time": null,
              "execution_start_time": "2025-06-24T17:45:36.4708962Z",
              "execution_finish_time": "2025-06-24T17:45:37.5853756Z",
              "parent_msg_id": "7b19be30-2bb1-41ee-aa14-6b58481ea706"
            },
            "text/plain": "StatementMeta(hourpool, 13, 34, Finished, Available, Finished)"
          },
          "metadata": {}
        }
      ],
      "execution_count": 30,
      "metadata": {
        "application/vnd.databricks.v1+cell": {
          "cellMetadata": {
            "byteLimit": 2048000,
            "rowLimit": 10000
          },
          "inputWidgets": {},
          "nuid": "45dca249-dfb5-4dc8-bd87-f9f0a0eea794",
          "showTitle": false,
          "tableResultSettingsMap": {},
          "title": ""
        }
      }
    },
    {
      "cell_type": "code",
      "source": [
        "df = df.limit(10) # added to speed up processings as during testing it was proving a bottleneck\n",
        "# The problem is caused by the Python UDF (reverse_geocoder) being a bottleneck due to its non-parallel nature and high computational cost per task"
      ],
      "outputs": [
        {
          "output_type": "display_data",
          "data": {
            "application/vnd.livy.statement-meta+json": {
              "spark_pool": "hourpool",
              "statement_id": 35,
              "statement_ids": [
                35
              ],
              "state": "finished",
              "livy_statement_state": "available",
              "spark_jobs": null,
              "session_id": "13",
              "normalized_state": "finished",
              "queued_time": "2025-06-24T17:45:40.2946072Z",
              "session_start_time": null,
              "execution_start_time": "2025-06-24T17:45:40.2957639Z",
              "execution_finish_time": "2025-06-24T17:45:40.5080941Z",
              "parent_msg_id": "ffd6b71c-a682-46de-b308-c8e6359891a8"
            },
            "text/plain": "StatementMeta(hourpool, 13, 35, Finished, Available, Finished)"
          },
          "metadata": {}
        }
      ],
      "execution_count": 31,
      "metadata": {
        "application/vnd.databricks.v1+cell": {
          "cellMetadata": {
            "byteLimit": 2048000,
            "rowLimit": 10000
          },
          "inputWidgets": {},
          "nuid": "7bc3fae0-974b-455e-a9c9-8c0ee218fc6e",
          "showTitle": false,
          "tableResultSettingsMap": {},
          "title": ""
        }
      }
    },
    {
      "cell_type": "code",
      "source": [
        "def get_country_code(lat, lon):\n",
        "    \"\"\"\n",
        "    Retrieve the country code for a given latitude and longitude.\n",
        "\n",
        "    Parameters:\n",
        "    lat (float or str): Latitude of the location.\n",
        "    lon (float or str): Longitude of the location.\n",
        "\n",
        "    Returns:\n",
        "    str: Country code of the location, retrieved using the reverse geocoding API.\n",
        "\n",
        "    Example:\n",
        "    >>> get_country_details(48.8588443, 2.2943506)\n",
        "    'FR'\n",
        "    \"\"\"\n",
        "    try:\n",
        "        coordinates = (float(lat), float(lon))\n",
        "        result = rg.search(coordinates)[0].get('cc')\n",
        "        print(f\"Processed coordinates: {coordinates} -> {result}\")\n",
        "        return result\n",
        "    except Exception as e:\n",
        "        print(f\"Error processing coordinates: {lat}, {lon} -> {str(e)}\")\n",
        "        return None"
      ],
      "outputs": [
        {
          "output_type": "display_data",
          "data": {
            "application/vnd.livy.statement-meta+json": {
              "spark_pool": "hourpool",
              "statement_id": 36,
              "statement_ids": [
                36
              ],
              "state": "finished",
              "livy_statement_state": "available",
              "spark_jobs": null,
              "session_id": "13",
              "normalized_state": "finished",
              "queued_time": "2025-06-24T17:45:44.5333721Z",
              "session_start_time": null,
              "execution_start_time": "2025-06-24T17:45:44.5345832Z",
              "execution_finish_time": "2025-06-24T17:45:44.7452564Z",
              "parent_msg_id": "5334f519-0fb5-4d1f-b6e1-0cc60177f405"
            },
            "text/plain": "StatementMeta(hourpool, 13, 36, Finished, Available, Finished)"
          },
          "metadata": {}
        }
      ],
      "execution_count": 32,
      "metadata": {
        "application/vnd.databricks.v1+cell": {
          "cellMetadata": {
            "byteLimit": 2048000,
            "rowLimit": 10000
          },
          "inputWidgets": {},
          "nuid": "3c807d0e-1f0f-4113-be4f-414406a7bd4d",
          "showTitle": false,
          "tableResultSettingsMap": {},
          "title": ""
        }
      }
    },
    {
      "cell_type": "code",
      "source": [
        "# registering the udfs so they can be used on spark dataframes\n",
        "get_country_code_udf = udf(get_country_code, StringType())"
      ],
      "outputs": [
        {
          "output_type": "display_data",
          "data": {
            "application/vnd.livy.statement-meta+json": {
              "spark_pool": "hourpool",
              "statement_id": 37,
              "statement_ids": [
                37
              ],
              "state": "finished",
              "livy_statement_state": "available",
              "spark_jobs": null,
              "session_id": "13",
              "normalized_state": "finished",
              "queued_time": "2025-06-24T17:45:46.2780489Z",
              "session_start_time": null,
              "execution_start_time": "2025-06-24T17:45:46.2792552Z",
              "execution_finish_time": "2025-06-24T17:45:46.4919269Z",
              "parent_msg_id": "8a3471d2-2c57-4419-9f08-75af8f00fe4d"
            },
            "text/plain": "StatementMeta(hourpool, 13, 37, Finished, Available, Finished)"
          },
          "metadata": {}
        }
      ],
      "execution_count": 33,
      "metadata": {
        "application/vnd.databricks.v1+cell": {
          "cellMetadata": {
            "byteLimit": 2048000,
            "rowLimit": 10000
          },
          "inputWidgets": {},
          "nuid": "f50a8441-ae75-4ce7-beb5-6329bf365055",
          "showTitle": false,
          "tableResultSettingsMap": {},
          "title": ""
        }
      }
    },
    {
      "cell_type": "code",
      "source": [
        "get_country_code(48.8588443, 2.2943506)"
      ],
      "outputs": [
        {
          "output_type": "display_data",
          "data": {
            "application/vnd.livy.statement-meta+json": {
              "spark_pool": "hourpool",
              "statement_id": 38,
              "statement_ids": [
                38
              ],
              "state": "finished",
              "livy_statement_state": "available",
              "spark_jobs": null,
              "session_id": "13",
              "normalized_state": "finished",
              "queued_time": "2025-06-24T17:45:47.4943293Z",
              "session_start_time": null,
              "execution_start_time": "2025-06-24T17:45:47.4953607Z",
              "execution_finish_time": "2025-06-24T17:45:48.0690195Z",
              "parent_msg_id": "32a04664-c0ce-4ac3-926c-26d4d296b634"
            },
            "text/plain": "StatementMeta(hourpool, 13, 38, Finished, Available, Finished)"
          },
          "metadata": {}
        },
        {
          "output_type": "stream",
          "name": "stdout",
          "text": [
            "Processed coordinates: (48.8588443, 2.2943506) -> FR\n"
          ]
        },
        {
          "output_type": "execute_result",
          "execution_count": 61,
          "data": {
            "text/plain": "'FR'"
          },
          "metadata": {}
        }
      ],
      "execution_count": 34,
      "metadata": {
        "application/vnd.databricks.v1+cell": {
          "cellMetadata": {
            "byteLimit": 2048000,
            "rowLimit": 10000
          },
          "inputWidgets": {},
          "nuid": "7a1cfc01-2afa-4c93-839c-55f9553c5b77",
          "showTitle": false,
          "tableResultSettingsMap": {},
          "title": ""
        }
      }
    },
    {
      "cell_type": "code",
      "source": [
        "# adding country_code and city attributes\n",
        "df_with_location = \\\n",
        "                df.\\\n",
        "                    withColumn(\"country_code\", get_country_code_udf(col(\"latitude\"), col(\"longitude\")))"
      ],
      "outputs": [
        {
          "output_type": "display_data",
          "data": {
            "application/vnd.livy.statement-meta+json": {
              "spark_pool": "hourpool",
              "statement_id": 39,
              "statement_ids": [
                39
              ],
              "state": "finished",
              "livy_statement_state": "available",
              "spark_jobs": null,
              "session_id": "13",
              "normalized_state": "finished",
              "queued_time": "2025-06-24T17:45:49.096475Z",
              "session_start_time": null,
              "execution_start_time": "2025-06-24T17:45:49.0976561Z",
              "execution_finish_time": "2025-06-24T17:45:49.3085095Z",
              "parent_msg_id": "f8b209a7-34aa-45aa-ab23-f9958b1fe830"
            },
            "text/plain": "StatementMeta(hourpool, 13, 39, Finished, Available, Finished)"
          },
          "metadata": {}
        }
      ],
      "execution_count": 35,
      "metadata": {
        "application/vnd.databricks.v1+cell": {
          "cellMetadata": {
            "byteLimit": 2048000,
            "rowLimit": 10000
          },
          "inputWidgets": {},
          "nuid": "e593bd05-422f-44bb-9848-35a5c317eb81",
          "showTitle": false,
          "tableResultSettingsMap": {},
          "title": ""
        }
      }
    },
    {
      "cell_type": "code",
      "source": [
        "df.printSchema()"
      ],
      "outputs": [
        {
          "output_type": "display_data",
          "data": {
            "application/vnd.livy.statement-meta+json": {
              "spark_pool": "hourpool",
              "statement_id": 40,
              "statement_ids": [
                40
              ],
              "state": "finished",
              "livy_statement_state": "available",
              "spark_jobs": null,
              "session_id": "13",
              "normalized_state": "finished",
              "queued_time": "2025-06-24T17:45:50.4110645Z",
              "session_start_time": null,
              "execution_start_time": "2025-06-24T17:45:50.4123027Z",
              "execution_finish_time": "2025-06-24T17:45:50.6150241Z",
              "parent_msg_id": "287f3647-20fb-475a-9b28-c9fe91724e09"
            },
            "text/plain": "StatementMeta(hourpool, 13, 40, Finished, Available, Finished)"
          },
          "metadata": {}
        },
        {
          "output_type": "stream",
          "name": "stdout",
          "text": [
            "root\n |-- id: string (nullable = true)\n |-- longitude: double (nullable = true)\n |-- latitude: double (nullable = true)\n |-- elevation: double (nullable = true)\n |-- title: string (nullable = true)\n |-- place_description: string (nullable = true)\n |-- sig: long (nullable = true)\n |-- mag: double (nullable = true)\n |-- magType: string (nullable = true)\n |-- time: timestamp (nullable = true)\n |-- updated: timestamp (nullable = true)\n\n"
          ]
        }
      ],
      "execution_count": 36,
      "metadata": {
        "application/vnd.databricks.v1+cell": {
          "cellMetadata": {
            "byteLimit": 2048000,
            "rowLimit": 10000
          },
          "inputWidgets": {},
          "nuid": "f58201f5-2b42-4fab-add5-f6f1d733c6c5",
          "showTitle": false,
          "tableResultSettingsMap": {},
          "title": ""
        }
      }
    },
    {
      "cell_type": "code",
      "source": [
        "df_with_location.printSchema()"
      ],
      "outputs": [
        {
          "output_type": "display_data",
          "data": {
            "application/vnd.livy.statement-meta+json": {
              "spark_pool": "hourpool",
              "statement_id": 41,
              "statement_ids": [
                41
              ],
              "state": "finished",
              "livy_statement_state": "available",
              "spark_jobs": null,
              "session_id": "13",
              "normalized_state": "finished",
              "queued_time": "2025-06-24T17:45:52.6213309Z",
              "session_start_time": null,
              "execution_start_time": "2025-06-24T17:45:52.6225514Z",
              "execution_finish_time": "2025-06-24T17:45:52.884114Z",
              "parent_msg_id": "a9ddb7a1-6009-47ee-b10b-23f3f69aa42c"
            },
            "text/plain": "StatementMeta(hourpool, 13, 41, Finished, Available, Finished)"
          },
          "metadata": {}
        },
        {
          "output_type": "stream",
          "name": "stdout",
          "text": [
            "root\n |-- id: string (nullable = true)\n |-- longitude: double (nullable = true)\n |-- latitude: double (nullable = true)\n |-- elevation: double (nullable = true)\n |-- title: string (nullable = true)\n |-- place_description: string (nullable = true)\n |-- sig: long (nullable = true)\n |-- mag: double (nullable = true)\n |-- magType: string (nullable = true)\n |-- time: timestamp (nullable = true)\n |-- updated: timestamp (nullable = true)\n |-- country_code: string (nullable = true)\n\n"
          ]
        }
      ],
      "execution_count": 37,
      "metadata": {
        "application/vnd.databricks.v1+cell": {
          "cellMetadata": {
            "byteLimit": 2048000,
            "rowLimit": 10000
          },
          "inputWidgets": {},
          "nuid": "c933dd90-30e5-4c69-b61c-ae3ada39f8b0",
          "showTitle": false,
          "tableResultSettingsMap": {},
          "title": ""
        }
      }
    },
    {
      "cell_type": "code",
      "source": [
        "# adding significance classification\n",
        "df_with_location_sig_class = \\\n",
        "                            df_with_location.\\\n",
        "                                withColumn('sig_class', \n",
        "                                            when(col(\"sig\") < 100, \"Low\").\\\n",
        "                                            when((col(\"sig\") >= 100) & (col(\"sig\") < 500), \"Moderate\").\\\n",
        "                                            otherwise(\"High\")\n",
        "                                            )"
      ],
      "outputs": [
        {
          "output_type": "display_data",
          "data": {
            "application/vnd.livy.statement-meta+json": {
              "spark_pool": "hourpool",
              "statement_id": 42,
              "statement_ids": [
                42
              ],
              "state": "finished",
              "livy_statement_state": "available",
              "spark_jobs": null,
              "session_id": "13",
              "normalized_state": "finished",
              "queued_time": "2025-06-24T17:45:55.2193192Z",
              "session_start_time": null,
              "execution_start_time": "2025-06-24T17:45:55.2205594Z",
              "execution_finish_time": "2025-06-24T17:45:55.4299269Z",
              "parent_msg_id": "7d4e0dc1-6eea-45e4-9d39-e0e663a28cd6"
            },
            "text/plain": "StatementMeta(hourpool, 13, 42, Finished, Available, Finished)"
          },
          "metadata": {}
        }
      ],
      "execution_count": 38,
      "metadata": {
        "application/vnd.databricks.v1+cell": {
          "cellMetadata": {
            "byteLimit": 2048000,
            "rowLimit": 10000
          },
          "inputWidgets": {},
          "nuid": "a2034f97-d2cd-446a-abfd-6824a549e8b5",
          "showTitle": false,
          "tableResultSettingsMap": {},
          "title": ""
        }
      }
    },
    {
      "cell_type": "code",
      "source": [
        "df_with_location_sig_class.printSchema()"
      ],
      "outputs": [
        {
          "output_type": "display_data",
          "data": {
            "application/vnd.livy.statement-meta+json": {
              "spark_pool": "hourpool",
              "statement_id": 43,
              "statement_ids": [
                43
              ],
              "state": "finished",
              "livy_statement_state": "available",
              "spark_jobs": null,
              "session_id": "13",
              "normalized_state": "finished",
              "queued_time": "2025-06-24T17:45:56.7894125Z",
              "session_start_time": null,
              "execution_start_time": "2025-06-24T17:45:56.7906973Z",
              "execution_finish_time": "2025-06-24T17:45:57.0069022Z",
              "parent_msg_id": "65df25ae-9bc2-42cf-9c6f-bb3c0690b0e6"
            },
            "text/plain": "StatementMeta(hourpool, 13, 43, Finished, Available, Finished)"
          },
          "metadata": {}
        },
        {
          "output_type": "stream",
          "name": "stdout",
          "text": [
            "root\n |-- id: string (nullable = true)\n |-- longitude: double (nullable = true)\n |-- latitude: double (nullable = true)\n |-- elevation: double (nullable = true)\n |-- title: string (nullable = true)\n |-- place_description: string (nullable = true)\n |-- sig: long (nullable = true)\n |-- mag: double (nullable = true)\n |-- magType: string (nullable = true)\n |-- time: timestamp (nullable = true)\n |-- updated: timestamp (nullable = true)\n |-- country_code: string (nullable = true)\n |-- sig_class: string (nullable = false)\n\n"
          ]
        }
      ],
      "execution_count": 39,
      "metadata": {
        "application/vnd.databricks.v1+cell": {
          "cellMetadata": {},
          "inputWidgets": {},
          "nuid": "1dc0d3e9-e17f-4194-8821-2b3936907c7a",
          "showTitle": false,
          "tableResultSettingsMap": {},
          "title": ""
        }
      }
    },
    {
      "cell_type": "code",
      "source": [
        "# Save the transformed DataFrame to the Silver container\n",
        "gold_output_path = f\"{gold_adls}earthquake_events_gold/\""
      ],
      "outputs": [
        {
          "output_type": "display_data",
          "data": {
            "application/vnd.livy.statement-meta+json": {
              "spark_pool": "hourpool",
              "statement_id": 44,
              "statement_ids": [
                44
              ],
              "state": "finished",
              "livy_statement_state": "available",
              "spark_jobs": null,
              "session_id": "13",
              "normalized_state": "finished",
              "queued_time": "2025-06-24T17:45:58.8417136Z",
              "session_start_time": null,
              "execution_start_time": "2025-06-24T17:45:58.8430372Z",
              "execution_finish_time": "2025-06-24T17:45:59.0558524Z",
              "parent_msg_id": "d7aafccb-8306-4db6-be9e-382a40e0e497"
            },
            "text/plain": "StatementMeta(hourpool, 13, 44, Finished, Available, Finished)"
          },
          "metadata": {}
        }
      ],
      "execution_count": 40,
      "metadata": {
        "application/vnd.databricks.v1+cell": {
          "cellMetadata": {
            "byteLimit": 2048000,
            "rowLimit": 10000
          },
          "inputWidgets": {},
          "nuid": "04a6b456-4afb-41de-b58e-ca6a6bb93d71",
          "showTitle": false,
          "tableResultSettingsMap": {},
          "title": ""
        }
      }
    },
    {
      "cell_type": "code",
      "source": [
        "# Append DataFrame to Silver container in Parquet format\n",
        "df_with_location_sig_class.write.mode('append').parquet(gold_output_path)"
      ],
      "outputs": [
        {
          "output_type": "display_data",
          "data": {
            "application/vnd.livy.statement-meta+json": {
              "spark_pool": "hourpool",
              "statement_id": 45,
              "statement_ids": [
                45
              ],
              "state": "finished",
              "livy_statement_state": "available",
              "spark_jobs": null,
              "session_id": "13",
              "normalized_state": "finished",
              "queued_time": "2025-06-24T17:46:00.0771483Z",
              "session_start_time": null,
              "execution_start_time": "2025-06-24T17:46:00.0782956Z",
              "execution_finish_time": "2025-06-24T17:46:05.3845591Z",
              "parent_msg_id": "a954ed1a-aba7-42e8-8644-48d9e8c726ed"
            },
            "text/plain": "StatementMeta(hourpool, 13, 45, Finished, Available, Finished)"
          },
          "metadata": {}
        }
      ],
      "execution_count": 41,
      "metadata": {
        "application/vnd.databricks.v1+cell": {
          "cellMetadata": {
            "byteLimit": 2048000,
            "rowLimit": 10000
          },
          "inputWidgets": {},
          "nuid": "cbf34037-e51e-4686-bb97-d535c4f29893",
          "showTitle": false,
          "tableResultSettingsMap": {},
          "title": ""
        }
      }
    }
  ],
  "metadata": {
    "kernelspec": {
      "name": "synapse_pyspark",
      "language": "Python",
      "display_name": "Synapse PySpark"
    },
    "language_info": {
      "name": "python"
    },
    "kernel_info": {
      "name": "synapse_pyspark"
    },
    "save_output": true,
    "synapse_widget": {
      "version": "0.1",
      "state": {}
    }
  },
  "nbformat": 4,
  "nbformat_minor": 2
}
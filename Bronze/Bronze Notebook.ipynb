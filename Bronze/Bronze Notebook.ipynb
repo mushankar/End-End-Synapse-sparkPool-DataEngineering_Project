{
  "cells": [
    {
      "cell_type": "code",
      "source": [
        "# Mount ADLS Gen2\n",
        "# Required each time the cluster is restarted which should be only on the first notebook as they run in order\n",
        "\n",
        "tiers = [\"bronze1\", \"silver\", \"gold\"]\n",
        "adls_paths = {tier: f\"abfss://{tier}@storage999.dfs.core.windows.net/\" for tier in tiers}\n",
        "\n",
        "# Accessing paths\n",
        "bronze1_adls = adls_paths[\"bronze1\"]\n",
        "silver_adls = adls_paths[\"silver\"]\n",
        "gold_adls = adls_paths[\"gold\"] "
      ],
      "outputs": [
        {
          "output_type": "display_data",
          "data": {
            "application/vnd.livy.statement-meta+json": {
              "spark_pool": "hourpool",
              "statement_id": 10,
              "statement_ids": [
                10
              ],
              "state": "finished",
              "livy_statement_state": "available",
              "spark_jobs": null,
              "session_id": "10",
              "normalized_state": "finished",
              "queued_time": "2025-06-24T16:52:29.7591106Z",
              "session_start_time": null,
              "execution_start_time": "2025-06-24T16:52:29.7603856Z",
              "execution_finish_time": "2025-06-24T16:52:29.9841836Z",
              "parent_msg_id": "08f8b2a4-1355-4ad5-8cc3-c00120c51e45"
            },
            "text/plain": "StatementMeta(hourpool, 10, 10, Finished, Available, Finished)"
          },
          "metadata": {}
        }
      ],
      "execution_count": 33,
      "metadata": {
        "application/vnd.databricks.v1+cell": {
          "cellMetadata": {
            "byteLimit": 2048000,
            "rowLimit": 10000
          },
          "inputWidgets": {},
          "nuid": "33a157a8-3a04-4872-8c6a-fe65d32ac5be",
          "showTitle": false,
          "tableResultSettingsMap": {},
          "title": ""
        }
      }
    },
    {
      "cell_type": "code",
      "source": [
        "adls_paths"
      ],
      "outputs": [
        {
          "output_type": "display_data",
          "data": {
            "application/vnd.livy.statement-meta+json": {
              "spark_pool": "hourpool",
              "statement_id": 11,
              "statement_ids": [
                11
              ],
              "state": "finished",
              "livy_statement_state": "available",
              "spark_jobs": null,
              "session_id": "10",
              "normalized_state": "finished",
              "queued_time": "2025-06-24T16:52:31.5986381Z",
              "session_start_time": null,
              "execution_start_time": "2025-06-24T16:52:31.6001538Z",
              "execution_finish_time": "2025-06-24T16:52:31.8092703Z",
              "parent_msg_id": "1444bede-5819-4b42-a928-3d541ae326ad"
            },
            "text/plain": "StatementMeta(hourpool, 10, 11, Finished, Available, Finished)"
          },
          "metadata": {}
        },
        {
          "output_type": "execute_result",
          "execution_count": 23,
          "data": {
            "text/plain": "{'bronze1': 'abfss://bronze1@storage999.dfs.core.windows.net/',\n 'silver': 'abfss://silver@storage999.dfs.core.windows.net/',\n 'gold': 'abfss://gold@storage999.dfs.core.windows.net/'}"
          },
          "metadata": {}
        }
      ],
      "execution_count": 34,
      "metadata": {}
    },
    {
      "cell_type": "code",
      "source": [
        "import requests\n",
        "import json\n",
        "from datetime import date, timedelta"
      ],
      "outputs": [
        {
          "output_type": "display_data",
          "data": {
            "application/vnd.livy.statement-meta+json": {
              "spark_pool": "hourpool",
              "statement_id": 12,
              "statement_ids": [
                12
              ],
              "state": "finished",
              "livy_statement_state": "available",
              "spark_jobs": null,
              "session_id": "10",
              "normalized_state": "finished",
              "queued_time": "2025-06-24T16:52:33.0036239Z",
              "session_start_time": null,
              "execution_start_time": "2025-06-24T16:52:33.0048483Z",
              "execution_finish_time": "2025-06-24T16:52:33.2333135Z",
              "parent_msg_id": "50ce8ed4-2b1c-41b4-9bdf-5222c5c008f3"
            },
            "text/plain": "StatementMeta(hourpool, 10, 12, Finished, Available, Finished)"
          },
          "metadata": {}
        }
      ],
      "execution_count": 35,
      "metadata": {
        "application/vnd.databricks.v1+cell": {
          "cellMetadata": {
            "byteLimit": 2048000,
            "rowLimit": 10000
          },
          "inputWidgets": {},
          "nuid": "6ab2b310-be20-4a1c-b30b-eaf20e264856",
          "showTitle": false,
          "tableResultSettingsMap": {},
          "title": ""
        }
      }
    },
    {
      "cell_type": "code",
      "source": [
        "'''\n",
        "# Remove this before running Data Factory Pipeline\n",
        "start_date = date.today() - timedelta(1)\n",
        "end_date = date.today()\n",
        "'''"
      ],
      "outputs": [
        {
          "output_type": "display_data",
          "data": {
            "application/vnd.livy.statement-meta+json": {
              "spark_pool": "hourpool",
              "statement_id": 13,
              "statement_ids": [
                13
              ],
              "state": "finished",
              "livy_statement_state": "available",
              "spark_jobs": null,
              "session_id": "10",
              "normalized_state": "finished",
              "queued_time": "2025-06-24T16:52:34.3038684Z",
              "session_start_time": null,
              "execution_start_time": "2025-06-24T16:52:34.3049968Z",
              "execution_finish_time": "2025-06-24T16:52:34.5130309Z",
              "parent_msg_id": "7339f74e-8f9f-4344-9114-7ceae91e21ca"
            },
            "text/plain": "StatementMeta(hourpool, 10, 13, Finished, Available, Finished)"
          },
          "metadata": {}
        }
      ],
      "execution_count": 36,
      "metadata": {
        "application/vnd.databricks.v1+cell": {
          "cellMetadata": {
            "byteLimit": 2048000,
            "rowLimit": 10000
          },
          "inputWidgets": {},
          "nuid": "a757f9e2-d8a6-479a-978d-02858e2cd002",
          "showTitle": false,
          "tableResultSettingsMap": {},
          "title": ""
        }
      }
    },
    {
      "cell_type": "code",
      "source": [
        "start_date, end_date"
      ],
      "outputs": [
        {
          "output_type": "display_data",
          "data": {
            "application/vnd.livy.statement-meta+json": {
              "spark_pool": "hourpool",
              "statement_id": 14,
              "statement_ids": [
                14
              ],
              "state": "finished",
              "livy_statement_state": "available",
              "spark_jobs": null,
              "session_id": "10",
              "normalized_state": "finished",
              "queued_time": "2025-06-24T16:52:35.7432941Z",
              "session_start_time": null,
              "execution_start_time": "2025-06-24T16:52:35.7445337Z",
              "execution_finish_time": "2025-06-24T16:52:35.9519562Z",
              "parent_msg_id": "26ad0b9c-5642-41dc-b596-41d75c37d49e"
            },
            "text/plain": "StatementMeta(hourpool, 10, 14, Finished, Available, Finished)"
          },
          "metadata": {}
        },
        {
          "output_type": "execute_result",
          "execution_count": 29,
          "data": {
            "text/plain": "(datetime.date(2025, 6, 23), datetime.date(2025, 6, 24))"
          },
          "metadata": {}
        }
      ],
      "execution_count": 37,
      "metadata": {
        "application/vnd.databricks.v1+cell": {
          "cellMetadata": {
            "byteLimit": 2048000,
            "rowLimit": 10000
          },
          "inputWidgets": {},
          "nuid": "59f14724-3229-4aca-a288-2848e0cb7af9",
          "showTitle": false,
          "tableResultSettingsMap": {},
          "title": ""
        }
      }
    },
    {
      "cell_type": "markdown",
      "source": [
        "**Download data from API** (Data is in JSON format)"
      ],
      "metadata": {
        "nteract": {
          "transient": {
            "deleting": false
          }
        }
      }
    },
    {
      "cell_type": "code",
      "source": [
        "# Construct the API URL with start and end dates provided by Data Factory\n",
        "url = f\"https://earthquake.usgs.gov/fdsnws/event/1/query?format=geojson&starttime={start_date}&endtime={end_date}\"\n",
        "\n",
        "try:\n",
        "    # Make the GET request to fetch data\n",
        "    response = requests.get(url)\n",
        "\n",
        "    # Check if the request was successful\n",
        "    response.raise_for_status()  # Raise HTTPError for bad responses (4xx or 5xx)\n",
        "    data = response.json().get('features', [])\n",
        "\n",
        "    if not data:\n",
        "        print(\"No data returned for the specified date range.\")\n",
        "    else:\n",
        "        # Specify the ADLS path\n",
        "        file_path = f\"{bronze1_adls}/{start_date}_earthquake_data.json\"\n",
        "\n",
        "        # Convert data to JSON string\n",
        "        json_data = json.dumps(data, indent=4)\n",
        "\n",
        "        # Write the JSON data to ADLS\n",
        "        # Create an RDD with the JSON string and parallelize it\n",
        "        rdd = spark.sparkContext.parallelize([json_data])\n",
        "\n",
        "        # Convert RDD to DataFrame and write to ADLS\n",
        "        df = spark.read.json(rdd)\n",
        "        df.limit(3) # To speed up processing for tutorial\n",
        "        df.write.mode(\"overwrite\").json(file_path)\n",
        "\n",
        "        print(f\"Data successfully saved to {file_path}\")\n",
        "except requests.exceptions.RequestException as e:\n",
        "    print(f\"Error fetching data from API: {e}\")"
      ],
      "outputs": [
        {
          "output_type": "display_data",
          "data": {
            "application/vnd.livy.statement-meta+json": {
              "spark_pool": "hourpool",
              "statement_id": 15,
              "statement_ids": [
                15
              ],
              "state": "finished",
              "livy_statement_state": "available",
              "spark_jobs": null,
              "session_id": "10",
              "normalized_state": "finished",
              "queued_time": "2025-06-24T16:52:37.3496087Z",
              "session_start_time": null,
              "execution_start_time": "2025-06-24T16:52:37.3508709Z",
              "execution_finish_time": "2025-06-24T16:52:52.0595455Z",
              "parent_msg_id": "de8ba88c-e810-47c7-8015-4714f640e6e8"
            },
            "text/plain": "StatementMeta(hourpool, 10, 15, Finished, Available, Finished)"
          },
          "metadata": {}
        },
        {
          "output_type": "stream",
          "name": "stdout",
          "text": [
            "Data successfully saved to abfss://bronze1@storage999.dfs.core.windows.net//2025-06-23_earthquake_data.json\n"
          ]
        }
      ],
      "execution_count": 38,
      "metadata": {
        "application/vnd.databricks.v1+cell": {
          "cellMetadata": {
            "byteLimit": 2048000,
            "rowLimit": 10000
          },
          "inputWidgets": {},
          "nuid": "15ed39c1-a920-4099-9154-87281518cd5b",
          "showTitle": false,
          "tableResultSettingsMap": {},
          "title": ""
        }
      }
    },
    {
      "cell_type": "code",
      "source": [
        "data[0]"
      ],
      "outputs": [
        {
          "output_type": "display_data",
          "data": {
            "application/vnd.livy.statement-meta+json": {
              "spark_pool": "hourpool",
              "statement_id": 16,
              "statement_ids": [
                16
              ],
              "state": "finished",
              "livy_statement_state": "available",
              "spark_jobs": null,
              "session_id": "10",
              "normalized_state": "finished",
              "queued_time": "2025-06-24T16:52:58.044085Z",
              "session_start_time": null,
              "execution_start_time": "2025-06-24T16:52:58.0453275Z",
              "execution_finish_time": "2025-06-24T16:52:58.2613381Z",
              "parent_msg_id": "5677138d-0290-4506-a18e-57cd0c41c92f"
            },
            "text/plain": "StatementMeta(hourpool, 10, 16, Finished, Available, Finished)"
          },
          "metadata": {}
        },
        {
          "output_type": "execute_result",
          "execution_count": 33,
          "data": {
            "text/plain": "{'type': 'Feature',\n 'properties': {'mag': 0.9,\n  'place': '36 km S of Denali National Park, Alaska',\n  'time': 1750723149788,\n  'updated': 1750723286782,\n  'tz': None,\n  'url': 'https://earthquake.usgs.gov/earthquakes/eventpage/ak025805k0ua',\n  'detail': 'https://earthquake.usgs.gov/fdsnws/event/1/query?eventid=ak025805k0ua&format=geojson',\n  'felt': None,\n  'cdi': None,\n  'mmi': None,\n  'alert': None,\n  'status': 'automatic',\n  'tsunami': 0,\n  'sig': 12,\n  'net': 'ak',\n  'code': '025805k0ua',\n  'ids': ',ak025805k0ua,',\n  'sources': ',ak,',\n  'types': ',origin,phase-data,',\n  'nst': None,\n  'dmin': None,\n  'rms': 0.55,\n  'gap': None,\n  'magType': 'ml',\n  'type': 'earthquake',\n  'title': 'M 0.9 - 36 km S of Denali National Park, Alaska'},\n 'geometry': {'type': 'Point', 'coordinates': [-151.7572, 63.2146, 8.6]},\n 'id': 'ak025805k0ua'}"
          },
          "metadata": {}
        }
      ],
      "execution_count": 39,
      "metadata": {
        "application/vnd.databricks.v1+cell": {
          "cellMetadata": {
            "byteLimit": 2048000,
            "rowLimit": 10000
          },
          "inputWidgets": {},
          "nuid": "e532e44d-3964-4450-a6b1-ca1b25b05354",
          "showTitle": false,
          "tableResultSettingsMap": {},
          "title": ""
        }
      }
    },
    {
      "cell_type": "code",
      "source": [
        "import json\n",
        "\n",
        "# Define your variables\n",
        "output_data = {\n",
        "    \"start_date\": start_date.isoformat(),\n",
        "    \"bronze1_adls\": bronze1_adls,\n",
        "    \"silver_adls\": silver_adls,\n",
        "    \"gold_adls\": gold_adls\n",
        "}\n",
        "\n",
        "# Serialize the dictionary to a JSON string\n",
        "bronze1_output = json.dumps(output_data)\n",
        "\n",
        "# Use mssparkutils.notebook.exit() to pass the JSON output to the pipeline\n",
        "mssparkutils.notebook.exit(bronze1_output)"
      ],
      "outputs": [
        {
          "output_type": "display_data",
          "data": {
            "application/vnd.livy.statement-meta+json": {
              "spark_pool": "hourpool",
              "statement_id": 17,
              "statement_ids": [
                17
              ],
              "state": "finished",
              "livy_statement_state": "available",
              "spark_jobs": null,
              "session_id": "10",
              "normalized_state": "finished",
              "queued_time": "2025-06-24T16:53:01.0721913Z",
              "session_start_time": null,
              "execution_start_time": "2025-06-24T16:53:01.0733962Z",
              "execution_finish_time": "2025-06-24T16:53:01.2851407Z",
              "parent_msg_id": "8465a4df-e4b3-4a08-8032-63f5e916b77e"
            },
            "text/plain": "StatementMeta(hourpool, 10, 17, Finished, Available, Finished)"
          },
          "metadata": {}
        },
        {
          "output_type": "stream",
          "name": "stdout",
          "text": [
            "ExitValue: {\"start_date\": \"2025-06-23\", \"bronze1_adls\": \"abfss://bronze1@storage999.dfs.core.windows.net/\", \"silver_adls\": \"abfss://silver@storage999.dfs.core.windows.net/\", \"gold_adls\": \"abfss://gold@storage999.dfs.core.windows.net/\"}"
          ]
        }
      ],
      "execution_count": 40,
      "metadata": {
        "application/vnd.databricks.v1+cell": {
          "cellMetadata": {
            "byteLimit": 2048000,
            "rowLimit": 10000
          },
          "inputWidgets": {},
          "nuid": "6ea66672-cf5a-4ae3-909f-72a0a8ce3a65",
          "showTitle": false,
          "tableResultSettingsMap": {},
          "title": ""
        }
      }
    }
  ],
  "metadata": {
    "kernelspec": {
      "name": "synapse_pyspark",
      "language": "Python",
      "display_name": "Synapse PySpark"
    },
    "language_info": {
      "name": "python"
    },
    "kernel_info": {
      "name": "synapse_pyspark"
    },
    "description": null,
    "save_output": true,
    "synapse_widget": {
      "version": "0.1",
      "state": {}
    }
  },
  "nbformat": 4,
  "nbformat_minor": 2
}